{
 "cells": [
  {
   "cell_type": "code",
   "execution_count": 1,
   "metadata": {},
   "outputs": [
    {
     "name": "stdout",
     "output_type": "stream",
     "text": [
      "Hello world\n"
     ]
    }
   ],
   "source": [
    "print(\"Hello world\")"
   ]
  },
  {
   "cell_type": "code",
   "execution_count": 2,
   "metadata": {},
   "outputs": [
    {
     "name": "stderr",
     "output_type": "stream",
     "text": [
      "/home/pincle/.pyenv/versions/3.6.5/lib/python3.6/importlib/_bootstrap.py:219: RuntimeWarning: numpy.dtype size changed, may indicate binary incompatibility. Expected 96, got 88\n",
      "  return f(*args, **kwds)\n"
     ]
    }
   ],
   "source": [
    "import pandas as pd\n",
    "import numpy as np"
   ]
  },
  {
   "cell_type": "code",
   "execution_count": 3,
   "metadata": {},
   "outputs": [],
   "source": [
    "df = pd.DataFrame(np.random.randn(10, 4),\n",
    "      index = pd.date_range('1/1/2000', periods=10),\n",
    "      columns = ['A', 'B', 'C', 'D'])"
   ]
  },
  {
   "cell_type": "code",
   "execution_count": 4,
   "metadata": {},
   "outputs": [
    {
     "data": {
      "text/html": [
       "<div>\n",
       "<style scoped>\n",
       "    .dataframe tbody tr th:only-of-type {\n",
       "        vertical-align: middle;\n",
       "    }\n",
       "\n",
       "    .dataframe tbody tr th {\n",
       "        vertical-align: top;\n",
       "    }\n",
       "\n",
       "    .dataframe thead th {\n",
       "        text-align: right;\n",
       "    }\n",
       "</style>\n",
       "<table border=\"1\" class=\"dataframe\">\n",
       "  <thead>\n",
       "    <tr style=\"text-align: right;\">\n",
       "      <th></th>\n",
       "      <th>A</th>\n",
       "      <th>B</th>\n",
       "      <th>C</th>\n",
       "      <th>D</th>\n",
       "    </tr>\n",
       "  </thead>\n",
       "  <tbody>\n",
       "    <tr>\n",
       "      <th>2000-01-01</th>\n",
       "      <td>-0.779425</td>\n",
       "      <td>0.335278</td>\n",
       "      <td>-0.485641</td>\n",
       "      <td>-0.408639</td>\n",
       "    </tr>\n",
       "    <tr>\n",
       "      <th>2000-01-02</th>\n",
       "      <td>-0.037043</td>\n",
       "      <td>-0.602140</td>\n",
       "      <td>1.785010</td>\n",
       "      <td>-0.709684</td>\n",
       "    </tr>\n",
       "    <tr>\n",
       "      <th>2000-01-03</th>\n",
       "      <td>-0.558968</td>\n",
       "      <td>-0.138573</td>\n",
       "      <td>-1.115671</td>\n",
       "      <td>0.062563</td>\n",
       "    </tr>\n",
       "    <tr>\n",
       "      <th>2000-01-04</th>\n",
       "      <td>-1.213957</td>\n",
       "      <td>0.772479</td>\n",
       "      <td>-0.824552</td>\n",
       "      <td>1.222509</td>\n",
       "    </tr>\n",
       "    <tr>\n",
       "      <th>2000-01-05</th>\n",
       "      <td>-1.729976</td>\n",
       "      <td>1.594086</td>\n",
       "      <td>-1.005283</td>\n",
       "      <td>-1.307082</td>\n",
       "    </tr>\n",
       "    <tr>\n",
       "      <th>2000-01-06</th>\n",
       "      <td>-0.236479</td>\n",
       "      <td>-0.816934</td>\n",
       "      <td>0.468958</td>\n",
       "      <td>-0.138459</td>\n",
       "    </tr>\n",
       "    <tr>\n",
       "      <th>2000-01-07</th>\n",
       "      <td>0.106343</td>\n",
       "      <td>-0.020930</td>\n",
       "      <td>0.196943</td>\n",
       "      <td>-0.758666</td>\n",
       "    </tr>\n",
       "    <tr>\n",
       "      <th>2000-01-08</th>\n",
       "      <td>-0.763699</td>\n",
       "      <td>0.023053</td>\n",
       "      <td>0.664019</td>\n",
       "      <td>0.818325</td>\n",
       "    </tr>\n",
       "    <tr>\n",
       "      <th>2000-01-09</th>\n",
       "      <td>-0.300314</td>\n",
       "      <td>0.274953</td>\n",
       "      <td>-1.376713</td>\n",
       "      <td>-0.831112</td>\n",
       "    </tr>\n",
       "    <tr>\n",
       "      <th>2000-01-10</th>\n",
       "      <td>-1.668745</td>\n",
       "      <td>-0.146460</td>\n",
       "      <td>0.683839</td>\n",
       "      <td>-1.842158</td>\n",
       "    </tr>\n",
       "  </tbody>\n",
       "</table>\n",
       "</div>"
      ],
      "text/plain": [
       "                   A         B         C         D\n",
       "2000-01-01 -0.779425  0.335278 -0.485641 -0.408639\n",
       "2000-01-02 -0.037043 -0.602140  1.785010 -0.709684\n",
       "2000-01-03 -0.558968 -0.138573 -1.115671  0.062563\n",
       "2000-01-04 -1.213957  0.772479 -0.824552  1.222509\n",
       "2000-01-05 -1.729976  1.594086 -1.005283 -1.307082\n",
       "2000-01-06 -0.236479 -0.816934  0.468958 -0.138459\n",
       "2000-01-07  0.106343 -0.020930  0.196943 -0.758666\n",
       "2000-01-08 -0.763699  0.023053  0.664019  0.818325\n",
       "2000-01-09 -0.300314  0.274953 -1.376713 -0.831112\n",
       "2000-01-10 -1.668745 -0.146460  0.683839 -1.842158"
      ]
     },
     "execution_count": 4,
     "metadata": {},
     "output_type": "execute_result"
    }
   ],
   "source": [
    "df"
   ]
  },
  {
   "cell_type": "code",
   "execution_count": 7,
   "metadata": {},
   "outputs": [],
   "source": [
    "def create_df(row, column):\n",
    "    return pd.DataFrame(np.random.randn(row, column),\n",
    "      index = pd.date_range('1/1/2000', periods=10),\n",
    "      columns = ['A', 'B', 'C', 'D'])"
   ]
  },
  {
   "cell_type": "code",
   "execution_count": 8,
   "metadata": {},
   "outputs": [
    {
     "data": {
      "text/html": [
       "<div>\n",
       "<style scoped>\n",
       "    .dataframe tbody tr th:only-of-type {\n",
       "        vertical-align: middle;\n",
       "    }\n",
       "\n",
       "    .dataframe tbody tr th {\n",
       "        vertical-align: top;\n",
       "    }\n",
       "\n",
       "    .dataframe thead th {\n",
       "        text-align: right;\n",
       "    }\n",
       "</style>\n",
       "<table border=\"1\" class=\"dataframe\">\n",
       "  <thead>\n",
       "    <tr style=\"text-align: right;\">\n",
       "      <th></th>\n",
       "      <th>A</th>\n",
       "      <th>B</th>\n",
       "      <th>C</th>\n",
       "      <th>D</th>\n",
       "    </tr>\n",
       "  </thead>\n",
       "  <tbody>\n",
       "    <tr>\n",
       "      <th>2000-01-01</th>\n",
       "      <td>1.251555</td>\n",
       "      <td>0.717891</td>\n",
       "      <td>-0.667432</td>\n",
       "      <td>-1.315724</td>\n",
       "    </tr>\n",
       "    <tr>\n",
       "      <th>2000-01-02</th>\n",
       "      <td>-3.116776</td>\n",
       "      <td>0.579098</td>\n",
       "      <td>-0.183548</td>\n",
       "      <td>1.786871</td>\n",
       "    </tr>\n",
       "    <tr>\n",
       "      <th>2000-01-03</th>\n",
       "      <td>-0.608303</td>\n",
       "      <td>-1.554737</td>\n",
       "      <td>0.310655</td>\n",
       "      <td>0.052650</td>\n",
       "    </tr>\n",
       "    <tr>\n",
       "      <th>2000-01-04</th>\n",
       "      <td>-0.675341</td>\n",
       "      <td>0.027004</td>\n",
       "      <td>-0.153433</td>\n",
       "      <td>-0.045076</td>\n",
       "    </tr>\n",
       "    <tr>\n",
       "      <th>2000-01-05</th>\n",
       "      <td>2.073034</td>\n",
       "      <td>0.681535</td>\n",
       "      <td>-1.237076</td>\n",
       "      <td>0.061888</td>\n",
       "    </tr>\n",
       "    <tr>\n",
       "      <th>2000-01-06</th>\n",
       "      <td>-0.471590</td>\n",
       "      <td>1.152239</td>\n",
       "      <td>0.380843</td>\n",
       "      <td>0.419358</td>\n",
       "    </tr>\n",
       "    <tr>\n",
       "      <th>2000-01-07</th>\n",
       "      <td>-1.441835</td>\n",
       "      <td>0.475795</td>\n",
       "      <td>-0.455912</td>\n",
       "      <td>0.672754</td>\n",
       "    </tr>\n",
       "    <tr>\n",
       "      <th>2000-01-08</th>\n",
       "      <td>0.539405</td>\n",
       "      <td>-0.264803</td>\n",
       "      <td>-3.310032</td>\n",
       "      <td>-0.132330</td>\n",
       "    </tr>\n",
       "    <tr>\n",
       "      <th>2000-01-09</th>\n",
       "      <td>1.219198</td>\n",
       "      <td>-1.129396</td>\n",
       "      <td>-0.576726</td>\n",
       "      <td>-0.525424</td>\n",
       "    </tr>\n",
       "    <tr>\n",
       "      <th>2000-01-10</th>\n",
       "      <td>0.366824</td>\n",
       "      <td>0.611781</td>\n",
       "      <td>-0.273196</td>\n",
       "      <td>0.624152</td>\n",
       "    </tr>\n",
       "  </tbody>\n",
       "</table>\n",
       "</div>"
      ],
      "text/plain": [
       "                   A         B         C         D\n",
       "2000-01-01  1.251555  0.717891 -0.667432 -1.315724\n",
       "2000-01-02 -3.116776  0.579098 -0.183548  1.786871\n",
       "2000-01-03 -0.608303 -1.554737  0.310655  0.052650\n",
       "2000-01-04 -0.675341  0.027004 -0.153433 -0.045076\n",
       "2000-01-05  2.073034  0.681535 -1.237076  0.061888\n",
       "2000-01-06 -0.471590  1.152239  0.380843  0.419358\n",
       "2000-01-07 -1.441835  0.475795 -0.455912  0.672754\n",
       "2000-01-08  0.539405 -0.264803 -3.310032 -0.132330\n",
       "2000-01-09  1.219198 -1.129396 -0.576726 -0.525424\n",
       "2000-01-10  0.366824  0.611781 -0.273196  0.624152"
      ]
     },
     "execution_count": 8,
     "metadata": {},
     "output_type": "execute_result"
    }
   ],
   "source": [
    "create_df(10, 4)"
   ]
  },
  {
   "cell_type": "code",
   "execution_count": null,
   "metadata": {},
   "outputs": [],
   "source": []
  }
 ],
 "metadata": {
  "kernelspec": {
   "display_name": "Python 3",
   "language": "python",
   "name": "python3"
  },
  "language_info": {
   "codemirror_mode": {
    "name": "ipython",
    "version": 3
   },
   "file_extension": ".py",
   "mimetype": "text/x-python",
   "name": "python",
   "nbconvert_exporter": "python",
   "pygments_lexer": "ipython3",
   "version": "3.6.5"
  }
 },
 "nbformat": 4,
 "nbformat_minor": 2
}
